{
 "cells": [
  {
   "cell_type": "code",
   "execution_count": 2,
   "metadata": {},
   "outputs": [
    {
     "data": {
      "text/plain": [
       "'https://cn.bing.com/search?q=%E7%99%BE%E5%BA%A6'"
      ]
     },
     "execution_count": 2,
     "metadata": {},
     "output_type": "execute_result"
    }
   ],
   "source": [
    "import requests\n",
    "session = requests.session()\n",
    "res=session.get(url='https://cn.bing.com/search',params={'q':'百度'})\n",
    "res.url"
   ]
  },
  {
   "cell_type": "code",
   "execution_count": 10,
   "metadata": {},
   "outputs": [
    {
     "name": "stdout",
     "output_type": "stream",
     "text": [
      "0\n"
     ]
    }
   ],
   "source": [
    "# from datetime import datetime\n",
    "# datetime.now().timestamp()//(60*60*24)\n",
    "for k in range(1):\n",
    "    print(k)"
   ]
  },
  {
   "cell_type": "code",
   "execution_count": 30,
   "metadata": {},
   "outputs": [
    {
     "data": {
      "text/plain": [
       "2.6000000000000014"
      ]
     },
     "execution_count": 30,
     "metadata": {},
     "output_type": "execute_result"
    }
   ],
   "source": [
    "20.6%3"
   ]
  },
  {
   "cell_type": "code",
   "execution_count": 26,
   "metadata": {},
   "outputs": [
    {
     "data": {
      "text/plain": [
       "[('35426', '8:00-9:00', '羽5'),\n",
       " ('35476', '8:00-9:00', '羽6'),\n",
       " ('35424', '9:00-10:00', '羽5'),\n",
       " ('35474', '9:00-10:00', '羽6'),\n",
       " ('35422', '10:00-11:00', '羽5'),\n",
       " ('35472', '10:00-11:00', '羽6'),\n",
       " ('35420', '11:00-12:00', '羽5'),\n",
       " ('35470', '11:00-12:00', '羽6'),\n",
       " ('35418', '12:00-13:00', '羽5'),\n",
       " ('35468', '12:00-13:00', '羽6'),\n",
       " ('35416', '13:00-14:00', '羽5'),\n",
       " ('35466', '13:00-14:00', '羽6'),\n",
       " ('35414', '14:00-15:00', '羽5'),\n",
       " ('35464', '14:00-15:00', '羽6'),\n",
       " ('35412', '15:00-16:00', '羽5'),\n",
       " ('35462', '15:00-16:00', '羽6'),\n",
       " ('35410', '16:00-17:00', '羽5'),\n",
       " ('35460', '16:00-17:00', '羽6'),\n",
       " ('35408', '17:00-18:00', '羽5'),\n",
       " ('35458', '17:00-18:00', '羽6'),\n",
       " ('35406', '18:00-19:00', '羽5'),\n",
       " ('35456', '18:00-19:00', '羽6'),\n",
       " ('35404', '19:00-20:00', '羽5'),\n",
       " ('35454', '19:00-20:00', '羽6'),\n",
       " ('35402', '20:00-21:00', '羽5'),\n",
       " ('35452', '20:00-21:00', '羽6'),\n",
       " ('35400', '21:00-22:00', '羽5'),\n",
       " ('35450', '21:00-22:00', '羽6')]"
      ]
     },
     "execution_count": 26,
     "metadata": {},
     "output_type": "execute_result"
    }
   ],
   "source": [
    "from re import findall\n",
    "res_ptn = r\"resourceArray\\.push({id:'\\([0-9]{4,5}\\)',time_session:\\('\\d{1,2}:00-\\d{1,2}:00'\\),field_name:\\('.+?'\\),overlaySize:'2',can_see_student:'',can_net_book:'1'});\"\n",
    "re_ptn = r\"resourceArray\\.push\\(\\{id:'([0-9]{4,5})',time_session:'(\\d{1,2}:00-\\d{1,2}:00)',field_name:'(.+?)',overlaySize:'2',can_see_student:'',can_net_book:'1'\\}\\);\"\n",
    "\n",
    "res = findall(re_ptn,''.join(open('./_tmp.html','r',encoding='utf8').readlines()))\n",
    "res"
   ]
  },
  {
   "cell_type": "code",
   "execution_count": 35,
   "metadata": {},
   "outputs": [],
   "source": [
    "lst=[('1',*k) for k in res]"
   ]
  },
  {
   "cell_type": "code",
   "execution_count": 39,
   "metadata": {},
   "outputs": [
    {
     "data": {
      "text/plain": [
       "[('1', '35422', '10:00-11:00', '羽5')]"
      ]
     },
     "execution_count": 39,
     "metadata": {},
     "output_type": "execute_result"
    }
   ],
   "source": [
    "lst.sort(key=lambda lst:(lst[3],lst[2]))\n",
    "lst[0:1]"
   ]
  },
  {
   "cell_type": "code",
   "execution_count": 27,
   "metadata": {},
   "outputs": [
    {
     "data": {
      "text/plain": [
       "['5871',\n",
       " '5873',\n",
       " '5875',\n",
       " '5877',\n",
       " '5879',\n",
       " '5881',\n",
       " '5883',\n",
       " '5885',\n",
       " '5887',\n",
       " '5893',\n",
       " '5895',\n",
       " '5897',\n",
       " '5921',\n",
       " '5923',\n",
       " '5925',\n",
       " '5927',\n",
       " '5929',\n",
       " '5931',\n",
       " '5933',\n",
       " '5935',\n",
       " '5941',\n",
       " '5943',\n",
       " '5945',\n",
       " '5971',\n",
       " '5973',\n",
       " '5975',\n",
       " '5977',\n",
       " '5979',\n",
       " '5981',\n",
       " '5983',\n",
       " '5985',\n",
       " '5987',\n",
       " '5989',\n",
       " '5991',\n",
       " '5993',\n",
       " '5995',\n",
       " '5997',\n",
       " '6021',\n",
       " '6023',\n",
       " '6025',\n",
       " '6027',\n",
       " '6029',\n",
       " '6031',\n",
       " '6033',\n",
       " '6035',\n",
       " '6037',\n",
       " '6039',\n",
       " '6041',\n",
       " '6043',\n",
       " '6045',\n",
       " '6047',\n",
       " '35400',\n",
       " '35402',\n",
       " '35404',\n",
       " '35406',\n",
       " '35408',\n",
       " '35410',\n",
       " '35412',\n",
       " '35414',\n",
       " '35450',\n",
       " '35452',\n",
       " '35454',\n",
       " '35456',\n",
       " '35458',\n",
       " '35460',\n",
       " '35462',\n",
       " '35464',\n",
       " '35500',\n",
       " '35502',\n",
       " '35504',\n",
       " '35506',\n",
       " '35508',\n",
       " '35510',\n",
       " '35512',\n",
       " '35514',\n",
       " '35550',\n",
       " '35552',\n",
       " '35554',\n",
       " '35556',\n",
       " '35558',\n",
       " '35560',\n",
       " '35562',\n",
       " '35564',\n",
       " '50393',\n",
       " '50395',\n",
       " '50397',\n",
       " '50399',\n",
       " '50401',\n",
       " '50403',\n",
       " '50405',\n",
       " '50407',\n",
       " '50409',\n",
       " '50411',\n",
       " '50413',\n",
       " '50415',\n",
       " '50417',\n",
       " '50419',\n",
       " '50443',\n",
       " '50445',\n",
       " '50447',\n",
       " '50449',\n",
       " '50451',\n",
       " '50453',\n",
       " '50455',\n",
       " '50457',\n",
       " '50459',\n",
       " '50461',\n",
       " '50463',\n",
       " '50465',\n",
       " '50467',\n",
       " '50469',\n",
       " '50493',\n",
       " '50495',\n",
       " '50497',\n",
       " '50499',\n",
       " '50501',\n",
       " '50503',\n",
       " '50505',\n",
       " '50507',\n",
       " '50509',\n",
       " '50511',\n",
       " '50513',\n",
       " '50515',\n",
       " '50517',\n",
       " '50519',\n",
       " '50543',\n",
       " '50545',\n",
       " '50547',\n",
       " '50549',\n",
       " '50551',\n",
       " '50553',\n",
       " '50555',\n",
       " '50557',\n",
       " '50559',\n",
       " '50561',\n",
       " '50563',\n",
       " '50565',\n",
       " '50567',\n",
       " '50569']"
      ]
     },
     "execution_count": 27,
     "metadata": {},
     "output_type": "execute_result"
    }
   ],
   "source": [
    "booked_ptn = r\"markResStatus\\('\\d+?','(\\d{4,5})','1'\\);\"\n",
    "findall(booked_ptn,''.join(open('./_tmp.html','r',encoding='utf8').readlines()))"
   ]
  },
  {
   "cell_type": "code",
   "execution_count": 1,
   "metadata": {},
   "outputs": [
    {
     "ename": "KeyboardInterrupt",
     "evalue": "",
     "output_type": "error",
     "traceback": [
      "\u001b[1;31m---------------------------------------------------------------------------\u001b[0m",
      "\u001b[1;31mKeyboardInterrupt\u001b[0m                         Traceback (most recent call last)",
      "\u001b[1;32m<ipython-input-1-ec6ee0b3c3cf>\u001b[0m in \u001b[0;36m<module>\u001b[1;34m\u001b[0m\n\u001b[0;32m      7\u001b[0m \u001b[1;33m\u001b[0m\u001b[0m\n\u001b[0;32m      8\u001b[0m \u001b[1;32mfor\u001b[0m \u001b[0midx\u001b[0m \u001b[1;32min\u001b[0m \u001b[0mrange\u001b[0m\u001b[1;33m(\u001b[0m\u001b[1;36m100\u001b[0m\u001b[1;33m)\u001b[0m\u001b[1;33m:\u001b[0m\u001b[1;33m\u001b[0m\u001b[1;33m\u001b[0m\u001b[0m\n\u001b[1;32m----> 9\u001b[1;33m     \u001b[0mtime\u001b[0m\u001b[1;33m.\u001b[0m\u001b[0msleep\u001b[0m\u001b[1;33m(\u001b[0m\u001b[1;36m50\u001b[0m\u001b[1;33m*\u001b[0m\u001b[0mrandom\u001b[0m\u001b[1;33m.\u001b[0m\u001b[0mrandom\u001b[0m\u001b[1;33m(\u001b[0m\u001b[1;33m)\u001b[0m\u001b[1;33m)\u001b[0m\u001b[1;33m\u001b[0m\u001b[1;33m\u001b[0m\u001b[0m\n\u001b[0m\u001b[0;32m     10\u001b[0m     \u001b[0mresp\u001b[0m \u001b[1;33m=\u001b[0m \u001b[0murllib\u001b[0m\u001b[1;33m.\u001b[0m\u001b[0mrequest\u001b[0m\u001b[1;33m.\u001b[0m\u001b[0murlopen\u001b[0m\u001b[1;33m(\u001b[0m\u001b[1;34m'https://cgyd.prsc.bnu.edu.cn/Kaptcha.jpg'\u001b[0m\u001b[1;33m)\u001b[0m\u001b[1;33m\u001b[0m\u001b[1;33m\u001b[0m\u001b[0m\n\u001b[0;32m     11\u001b[0m     \u001b[1;32mif\u001b[0m \u001b[1;33m(\u001b[0m\u001b[0mresp\u001b[0m\u001b[1;33m.\u001b[0m\u001b[0mgetcode\u001b[0m\u001b[1;33m(\u001b[0m\u001b[1;33m)\u001b[0m\u001b[1;33m==\u001b[0m\u001b[1;36m200\u001b[0m\u001b[1;33m)\u001b[0m\u001b[1;33m:\u001b[0m\u001b[1;33m\u001b[0m\u001b[1;33m\u001b[0m\u001b[0m\n",
      "\u001b[1;31mKeyboardInterrupt\u001b[0m: "
     ]
    }
   ],
   "source": [
    "import urllib.request\n",
    "import time,random,os\n",
    "os.listdir('img/')\n",
    "opener = urllib.request.build_opener()\n",
    "heads=('User-agent','Mozilla/5.0 (Windows NT 6.1; Win64; x64; rv:73.0) Gecko/20100101 Firefox/73.0')\n",
    "opener.addheaders=[heads]\n",
    "urllib.request.install_opener(opener)\n",
    "\n",
    "idx = 0\n",
    "if not os.path.exists('img/'):\n",
    "    os.mkdir('img/')\n",
    "for i in range(100):\n",
    "    time.sleep(50*random.random())\n",
    "    resp = urllib.request.urlopen('https://cgyd.prsc.bnu.edu.cn/Kaptcha.jpg')\n",
    "    if (resp.getcode()==200):\n",
    "        while os.path.exists('img/'+str(idx)+'.jpg'):\n",
    "            idx += 1\n",
    "        with open('img/'+str(idx)+'.jpg','wb') as f:\n",
    "            f.write(resp.read())"
   ]
  },
  {
   "cell_type": "code",
   "execution_count": 53,
   "metadata": {},
   "outputs": [],
   "source": [
    "import numpy as np\n",
    "\n",
    "from PIL import Image\n",
    "img = np.array(Image.open('img/1.jpg').convert('L'))\n",
    "from torchvision.utils import save_image\n",
    "# split = Image.fromarray(img[:,40:150]) # 25- 45~50\n",
    "# # split = Image.fromarray(img[:,45:70]) # 45 - 70\n",
    "# split = Image.fromarray(img[:,70:90])\n",
    "span = 21\n",
    "i=1\n",
    "split = Image.fromarray(img[:,40+i*span:40+(i+1)*span])\n",
    "split.save('test.jpg')"
   ]
  },
  {
   "cell_type": "code",
   "execution_count": 28,
   "metadata": {},
   "outputs": [
    {
     "name": "stdout",
     "output_type": "stream",
     "text": [
      "30\n"
     ]
    }
   ],
   "source": [
    "# from  paddleocr import PaddleOCR\n",
    "# ocr = PaddleOCR()\n",
    "# img_path = r'img/1.jpg'\n",
    "# result = ocr.ocr(img_path,cls=False)\n",
    "# result[0][1]\n",
    "import re\n",
    "expre = re.findall(r'[0-9]{1,2}? *?[+-] *?[0-9]{1,2}','38-8')\n",
    "# res.group(0)\n",
    "if len(expre)==1:\n",
    "    print(eval(expre[0]))"
   ]
  },
  {
   "cell_type": "code",
   "execution_count": 12,
   "metadata": {},
   "outputs": [
    {
     "name": "stdout",
     "output_type": "stream",
     "text": [
      "1\n"
     ]
    }
   ],
   "source": [
    "import re\n",
    "if re.match(r'^ *?20[12][0-9]{9} *?$',' 202212125011'):\n",
    "    a = 1\n",
    "else:\n",
    "    a=0\n",
    "print(a)"
   ]
  },
  {
   "cell_type": "code",
   "execution_count": 1,
   "metadata": {},
   "outputs": [
    {
     "data": {
      "text/plain": [
       "'..'"
      ]
     },
     "execution_count": 1,
     "metadata": {},
     "output_type": "execute_result"
    }
   ],
   "source": [
    "import os\n",
    "os.path."
   ]
  }
 ],
 "metadata": {
  "kernelspec": {
   "display_name": "Python 3.9.12 ('base')",
   "language": "python",
   "name": "python3"
  },
  "language_info": {
   "codemirror_mode": {
    "name": "ipython",
    "version": 3
   },
   "file_extension": ".py",
   "mimetype": "text/x-python",
   "name": "python",
   "nbconvert_exporter": "python",
   "pygments_lexer": "ipython3",
   "version": "3.9.12"
  },
  "orig_nbformat": 4,
  "vscode": {
   "interpreter": {
    "hash": "429c4da532d5a49305ad374da5bd9411413fc9c5f93bdb5e51c34bc796003ebd"
   }
  }
 },
 "nbformat": 4,
 "nbformat_minor": 2
}
